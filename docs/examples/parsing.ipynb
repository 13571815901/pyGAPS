{
 "cells": [
  {
   "cell_type": "markdown",
   "metadata": {},
   "source": [
    "# Parsing examples\n",
    "\n",
    "Some examples on parsing to and from supported formats. More info about all parsing methods can be found in the [manual section](../manual/parsing.rst).\n",
    "\n",
    "## Declare paths\n",
    "\n",
    "First, let's do all the necessary imports and generate the paths that we'll use for file import and export.\n",
    "We'll then use the `util_get_file_paths` function to get the file paths in those directories."
   ]
  },
  {
   "cell_type": "code",
   "execution_count": 1,
   "metadata": {},
   "outputs": [],
   "source": [
    "from pathlib import Path\n",
    "import pygaps\n",
    "\n",
    "# Get directory paths\n",
    "xl_path = Path.cwd() / 'data' / 'parsing' / 'excel'\n",
    "json_path = Path.cwd() / 'data' / 'parsing' / 'json'\n",
    "csv_path = Path.cwd() / 'data' / 'parsing' / 'csv'\n",
    "\n",
    "# Find files\n",
    "json_file_paths = pygaps.util_get_file_paths(json_path, 'json')\n",
    "xl_file_paths = pygaps.util_get_file_paths(xl_path, 'xls')\n",
    "csv_file_paths = pygaps.util_get_file_paths(csv_path, 'csv')"
   ]
  },
  {
   "cell_type": "markdown",
   "metadata": {},
   "source": [
    "## JSON Parsing\n",
    "### JSON Import"
   ]
  },
  {
   "cell_type": "code",
   "execution_count": 2,
   "metadata": {},
   "outputs": [
    {
     "name": "stdout",
     "output_type": "stream",
     "text": [
      "Material: HKUST-1(Cu)\n",
      "Adsorbate: carbon dioxide\n",
      "Temperature: 303.0K\n",
      "iso_type: Calorimetrie\n",
      "material_batch: Test\n",
      "Units: \n",
      "\tUptake in: mmol/g\n",
      "\tPressure in: bar\n",
      "Other properties: \n",
      "\tcomment: None\n",
      "\tdate: 2010-05-21 00:00:00\n",
      "\tis_real: True\n",
      "\tlab: MADIREL\n",
      "\tmachine: CV\n",
      "\tproject: None\n",
      "\tt_act: 150.0\n",
      "\tuser: ADW\n",
      "\n",
      "Material: HKUST-1(Cu)\n",
      "Adsorbate: carbon dioxide\n",
      "Temperature: 303.0K\n",
      "iso_type: Calorimetrie\n",
      "material_batch: Test\n",
      "Units: \n",
      "\tUptake in: mmol/g\n",
      "\tPressure in: bar\n",
      "Other properties: \n",
      "\tcomment: None\n",
      "\tdate: 2010-05-21 00:00:00\n",
      "\tis_real: True\n",
      "\tlab: MADIREL\n",
      "\tmachine: CV\n",
      "\tproject: None\n",
      "\tt_act: 150.0\n",
      "\tuser: ADW\n",
      "\n",
      "Material: MCM-41\n",
      "Adsorbate: nitrogen\n",
      "Temperature: 77.0K\n",
      "iso_type: Isotherme\n",
      "material_batch: Test\n",
      "Units: \n",
      "\tUptake in: mmol/g\n",
      "\tPressure in: bar\n",
      "Other properties: \n",
      "\tcomment: None\n",
      "\tdate: None\n",
      "\tis_real: True\n",
      "\tlab: MADIREL\n",
      "\tmachine: Triflex\n",
      "\tproject: None\n",
      "\tt_act: 150.0\n",
      "\tuser: PI\n",
      "\n",
      "Material: MCM-41\n",
      "Adsorbate: nitrogen\n",
      "Temperature: 77.0K\n",
      "iso_type: Isotherme\n",
      "material_batch: Test\n",
      "Units: \n",
      "\tUptake in: mmol/g\n",
      "\tPressure in: bar\n",
      "Other properties: \n",
      "\tcomment: None\n",
      "\tdate: None\n",
      "\tis_real: True\n",
      "\tlab: MADIREL\n",
      "\tmachine: Triflex\n",
      "\tproject: None\n",
      "\tt_act: 150.0\n",
      "\tuser: PI\n",
      "\n"
     ]
    }
   ],
   "source": [
    "# Import them\n",
    "isotherms = []\n",
    "for filepath in json_file_paths:\n",
    "    isotherms.append(pygaps.isotherm_from_jsonf(filepath))\n",
    "\n",
    "# See the files\n",
    "for isotherm in isotherms:\n",
    "    print(isotherm)"
   ]
  },
  {
   "cell_type": "markdown",
   "metadata": {},
   "source": [
    "### JSON Export"
   ]
  },
  {
   "cell_type": "code",
   "execution_count": 3,
   "metadata": {},
   "outputs": [],
   "source": [
    "for isotherm in isotherms:\n",
    "    filename = json_path / (' '.join([isotherm.material,\n",
    "                                      str(isotherm.adsorbate),\n",
    "                                      str(isotherm.temperature)]) + '.json')\n",
    "    with open(filename, mode='w') as f:\n",
    "        f.write(pygaps.isotherm_to_json(isotherm))"
   ]
  },
  {
   "cell_type": "markdown",
   "metadata": {},
   "source": [
    "## Excel Parsing\n",
    "\n",
    "Excel *does not* have to be installed on the system in use.     \n",
    "\n",
    "### Excel Import"
   ]
  },
  {
   "cell_type": "code",
   "execution_count": 4,
   "metadata": {},
   "outputs": [
    {
     "name": "stdout",
     "output_type": "stream",
     "text": [
      "C:\\Users\\pauli\\git\\pyGAPS\\docs\\examples\\data\\parsing\\excel\\HKUST-1(Cu) CO2 303.0.xls\n",
      "C:\\Users\\pauli\\git\\pyGAPS\\docs\\examples\\data\\parsing\\excel\\MCM-41 N2 77.0.xls\n"
     ]
    }
   ],
   "source": [
    "# Import them\n",
    "[print(path) for path in xl_file_paths]\n",
    "isotherms = [pygaps.isotherm_from_xl(path) for path in xl_file_paths]\n",
    "\n",
    "# See the files\n",
    "for isotherm in isotherms:\n",
    "    print(isotherm)"
   ]
  },
  {
   "cell_type": "markdown",
   "metadata": {},
   "source": [
    "### Excel Export"
   ]
  },
  {
   "cell_type": "code",
   "execution_count": 5,
   "metadata": {},
   "outputs": [],
   "source": [
    "# Export each isotherm in turn\n",
    "for isotherm in isotherms:\n",
    "    filename = ' '.join([isotherm.material, str(isotherm.adsorbate), str(isotherm.temperature)]) + '.xls'\n",
    "    pygaps.isotherm_to_xl(isotherm, os.path.join(xl_path, filename))"
   ]
  },
  {
   "cell_type": "markdown",
   "metadata": {},
   "source": [
    "## CSV Parsing\n",
    "### CSV Import"
   ]
  },
  {
   "cell_type": "code",
   "execution_count": 6,
   "metadata": {},
   "outputs": [
    {
     "name": "stdout",
     "output_type": "stream",
     "text": [
      "Material: HKUST-1(Cu)\n",
      "Adsorbate: carbon dioxide\n",
      "Temperature: 303.0K\n",
      "iso_type: Calorimetrie\n",
      "material_batch: Test\n",
      "Units: \n",
      "\tUptake in: mmol/g\n",
      "\tPressure in: bar\n",
      "Other properties: \n",
      "\tuser: ADW\n",
      "\tmachine: CV\n",
      "\tdate: 21/05/2010 00:00\n",
      "\tis_real: True\n",
      "\tt_act: 150.0\n",
      "\tlab: MADIREL\n",
      "\n",
      "Material: HKUST-1(Cu)\n",
      "Adsorbate: carbon dioxide\n",
      "Temperature: 303.0K\n",
      "iso_type: Calorimetrie\n",
      "material_batch: Test\n",
      "Units: \n",
      "\tUptake in: mmol/g\n",
      "\tPressure in: bar\n",
      "Other properties: \n",
      "\tuser: ADW\n",
      "\tmachine: CV\n",
      "\tdate: 21/05/2010 00:00\n",
      "\tis_real: True\n",
      "\tt_act: 150.0\n",
      "\tlab: MADIREL\n",
      "\n",
      "Material: MCM-41\n",
      "Adsorbate: nitrogen\n",
      "Temperature: 77.0K\n",
      "iso_type: Isotherme\n",
      "material_batch: Test\n",
      "Units: \n",
      "\tUptake in: mmol/g\n",
      "\tPressure in: bar\n",
      "Other properties: \n",
      "\tuser: PI\n",
      "\tmachine: Triflex\n",
      "\tis_real: True\n",
      "\tt_act: 150.0\n",
      "\tlab: MADIREL\n",
      "\n",
      "Material: MCM-41\n",
      "Adsorbate: nitrogen\n",
      "Temperature: 77.0K\n",
      "iso_type: Isotherme\n",
      "material_batch: Test\n",
      "Units: \n",
      "\tUptake in: mmol/g\n",
      "\tPressure in: bar\n",
      "Other properties: \n",
      "\tuser: PI\n",
      "\tmachine: Triflex\n",
      "\tis_real: True\n",
      "\tt_act: 150.0\n",
      "\tlab: MADIREL\n",
      "\n"
     ]
    }
   ],
   "source": [
    "# Import them\n",
    "isotherms = [pygaps.isotherm_from_csv(path) for path in csv_file_paths]\n",
    "\n",
    "# See the files\n",
    "for isotherm in isotherms:\n",
    "    print(isotherm)"
   ]
  },
  {
   "cell_type": "markdown",
   "metadata": {},
   "source": [
    "### CSV Export"
   ]
  },
  {
   "cell_type": "code",
   "execution_count": 7,
   "metadata": {},
   "outputs": [],
   "source": [
    "# Export each isotherm in turn\n",
    "for isotherm in isotherms:\n",
    "    filename = ' '.join([isotherm.material, str(isotherm.adsorbate), str(isotherm.temperature)]) + '.csv'\n",
    "    pygaps.isotherm_to_csv(isotherm, csv_path / filename)"
   ]
  },
  {
   "cell_type": "code",
   "execution_count": null,
   "metadata": {},
   "outputs": [],
   "source": []
  }
 ],
 "metadata": {
  "kernelspec": {
   "display_name": "Python 3",
   "language": "python",
   "name": "python3"
  },
  "language_info": {
   "codemirror_mode": {
    "name": "ipython",
    "version": 3
   },
   "file_extension": ".py",
   "mimetype": "text/x-python",
   "name": "python",
   "nbconvert_exporter": "python",
   "pygments_lexer": "ipython3",
   "version": "3.8.3"
  }
 },
 "nbformat": 4,
 "nbformat_minor": 2
}
